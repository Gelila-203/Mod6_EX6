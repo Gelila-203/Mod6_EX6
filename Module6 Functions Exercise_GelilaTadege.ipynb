{
 "cells": [
  {
   "cell_type": "markdown",
   "metadata": {},
   "source": [
    "1. Round 4.5667 to the nearest hundreth using a build-in function, round()."
   ]
  },
  {
   "cell_type": "code",
   "execution_count": 1,
   "metadata": {},
   "outputs": [
    {
     "data": {
      "text/plain": [
       "4.57"
      ]
     },
     "execution_count": 1,
     "metadata": {},
     "output_type": "execute_result"
    }
   ],
   "source": [
    "round(4.5667,2)"
   ]
  },
  {
   "cell_type": "markdown",
   "metadata": {},
   "source": [
    "2. Convert \"657\" to an integer data type"
   ]
  },
  {
   "cell_type": "code",
   "execution_count": 2,
   "metadata": {},
   "outputs": [
    {
     "data": {
      "text/plain": [
       "657"
      ]
     },
     "execution_count": 2,
     "metadata": {},
     "output_type": "execute_result"
    }
   ],
   "source": [
    "int(\"657\")"
   ]
  },
  {
   "cell_type": "markdown",
   "metadata": {},
   "source": [
    "3.\n",
    "Write a program to get two numbers from a user. Then, create a secret code where a code consists of 6 numbers and each number is randomly generated number between two numbers from a user. "
   ]
  },
  {
   "cell_type": "code",
   "execution_count": 12,
   "metadata": {},
   "outputs": [
    {
     "name": "stdout",
     "output_type": "stream",
     "text": [
      "Pick first number: 0\n",
      "Pick second number: 10\n",
      "The number entered are 0, 10\n",
      "The secrete code is 1093196\n"
     ]
    }
   ],
   "source": [
    "import random as rand\n",
    "# get two numbers from a user - what data type is it?\n",
    "numb1 = int(input(\"Pick first number: \"))\n",
    "numb2 = int(input(\"Pick second number: \"))\n",
    "# generate 6 number from  two  numbers\n",
    "Secret_num1 = rand.randint(numb1, numb2)\n",
    "Secret_num2 = rand.randint(numb1, numb2)\n",
    "Secret_num3 = rand.randint(numb1, numb2)\n",
    "Secret_num4 = rand.randint(numb1, numb2)\n",
    "Secret_num5 = rand.randint(numb1, numb2)\n",
    "Secret_num6= rand.randint(numb1, numb2)\n",
    "print(f\"The number entered are {numb1}, {numb2}\")\n",
    "\n",
    "print(f\"The secrete code is {Secret_num1}{Secret_num2}{Secret_num3}{Secret_num4}{Secret_num5}{Secret_num6}\" )\n"
   ]
  },
  {
   "cell_type": "markdown",
   "metadata": {},
   "source": [
    "4.\n",
    "Write a program to center align below text where number of characters per line is 40:\n",
    "\n",
    "    Hickory, dickory, dock,\n",
    "    The mouse ran up the clock.\n",
    "    The clock struck one,\n",
    "    The mouse ran down,\n",
    "    Hickory, dickory, dock\n",
    "\n",
    "<b>Do not use string's center method! </b>"
   ]
  },
  {
   "cell_type": "code",
   "execution_count": 44,
   "metadata": {},
   "outputs": [
    {
     "name": "stdout",
     "output_type": "stream",
     "text": [
      "--------- Hickory, dickory, dock,---------\n",
      "--------- The mouse ran up the clock.---------\n",
      "--------- The clock struck one,---------\n",
      "--------- The mouse ran down,---------\n",
      "--------- Hickory, dickory, dock---------\n"
     ]
    }
   ],
   "source": [
    "line1 = \"Hickory, dickory, dock,\"\n",
    "line2 = \"The mouse ran up the clock.\"\n",
    "line3 = \"The clock struck one,\"\n",
    "line4 = \"The mouse ran down,\"\n",
    "line5 = \"Hickory, dickory, dock\"\n",
    "#for line1\n",
    "diff=40-len(line1)\n",
    "space= \"-\"\n",
    "half=int(diff/2)\n",
    "prefix= space * half\n",
    "#for line2\n",
    "diff=40-len(line2)\n",
    "half=int(diff/2)\n",
    "prefix= space * half\n",
    "#foe line3\n",
    "diff=40-len(line3)\n",
    "half=int(diff/2)\n",
    "prefix= space * half\n",
    "#for line4\n",
    "diff=40-len(line4)\n",
    "half=int(diff/2)\n",
    "prefix= space * half \n",
    "#for line5\n",
    "diff=40-len(line5)\n",
    "half=int(diff/2)\n",
    "prefix= space * half \n",
    "\n",
    "\n",
    "print(f\"{prefix} {line1}{prefix}\")\n",
    "print(f\"{prefix} {line2}{prefix}\")\n",
    "print(f\"{prefix} {line3}{prefix}\")\n",
    "print(f\"{prefix} {line4}{prefix}\")\n",
    "print(f\"{prefix} {line5}{prefix}\")\n",
    "\n"
   ]
  },
  {
   "cell_type": "markdown",
   "metadata": {},
   "source": [
    "5. Write a function to calculate the miles per gallon.\n",
    "Get a miles driven and gallons used from a user and call your function to calculate the miles per gallon. "
   ]
  },
  {
   "cell_type": "code",
   "execution_count": 45,
   "metadata": {},
   "outputs": [],
   "source": [
    "def milePerGallon(mile, gallon) :\n",
    "    mpg=mile/gallon\n",
    "    return mpg\n"
   ]
  },
  {
   "cell_type": "code",
   "execution_count": 49,
   "metadata": {},
   "outputs": [
    {
     "name": "stdout",
     "output_type": "stream",
     "text": [
      "PLease enter the mile driven 4\n",
      "Please enter the gallon used 2\n",
      "2.0\n"
     ]
    }
   ],
   "source": [
    "mile_driven=float(input(\"PLease enter the mile driven \"))\n",
    "gallon_used=float(input(\"Please enter the gallon used \"))\n",
    "mpg=milePerGallon(mile_driven, gallon_used)\n",
    "print(f\"{mpg}\")"
   ]
  },
  {
   "cell_type": "code",
   "execution_count": null,
   "metadata": {},
   "outputs": [],
   "source": []
  }
 ],
 "metadata": {
  "kernelspec": {
   "display_name": "Python 3 (ipykernel)",
   "language": "python",
   "name": "python3"
  },
  "language_info": {
   "codemirror_mode": {
    "name": "ipython",
    "version": 3
   },
   "file_extension": ".py",
   "mimetype": "text/x-python",
   "name": "python",
   "nbconvert_exporter": "python",
   "pygments_lexer": "ipython3",
   "version": "3.9.12"
  }
 },
 "nbformat": 4,
 "nbformat_minor": 4
}
